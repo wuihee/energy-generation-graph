{
 "cells": [
  {
   "cell_type": "markdown",
   "metadata": {},
   "source": [
    "# A Graphical Representation of Energy Generation in the United States\n",
    "\n",
    "The amount of electricity produced in the United States, in all energy sectors, show a repeating pattern, similar to that of a periodic function. When graphed, the input (x-axis) of the function is represented with any given and output (y-axis) is represented in amount of energy produced, in terms of megawatts/hour (MWh). This program fetches the raw data, outputs a table of points and draws a graph with the points. Afterwards, using patterns from the data points retrieved, the program determines the appropriate variables for the best-fit sinoidsodal function and graphs it.\n",
    "\n",
    "## Raw Data\n",
    "\n",
    "All data is acquired from the [U.S Energy Administration](\"https://www.eia.gov/opendata/\") using their API. Afterwards, the data is formatted into a data table using the pandas library, where each cell contains the amount of energy generated every month from 2001 to 2016. From there, the an x and y values are created in the form of lists and are graphed, along with necessary information (labels, etc.) using the matplotlib library."
   ]
  },
  {
   "cell_type": "code",
   "execution_count": 1,
   "metadata": {},
   "outputs": [],
   "source": [
    "import collections\n",
    "\n",
    "import requests\n",
    "import pandas\n",
    "import matplotlib.pyplot as plt\n",
    "import numpy as np"
   ]
  },
  {
   "cell_type": "code",
   "execution_count": 2,
   "metadata": {},
   "outputs": [],
   "source": [
    "API_URL = \"https://api.eia.gov/v2/total-energy/data/?frequency=annual&data[0]=value&start=1949&end=2024&sort[0][column]=period&sort[0][direction]=desc&offset=0&length=5000\""
   ]
  },
  {
   "cell_type": "code",
   "execution_count": 3,
   "metadata": {},
   "outputs": [
    {
     "data": {
      "text/plain": [
       "{'error': {'code': 'API_KEY_MISSING',\n",
       "  'message': 'No api_key was supplied.  Please register for one at https://www.eia.gov/opendata/register.php'}}"
      ]
     },
     "execution_count": 3,
     "metadata": {},
     "output_type": "execute_result"
    }
   ],
   "source": [
    "response = requests.get(API_URL)\n",
    "response.json()"
   ]
  }
 ],
 "metadata": {
  "kernelspec": {
   "display_name": ".venv",
   "language": "python",
   "name": "python3"
  },
  "language_info": {
   "codemirror_mode": {
    "name": "ipython",
    "version": 3
   },
   "file_extension": ".py",
   "mimetype": "text/x-python",
   "name": "python",
   "nbconvert_exporter": "python",
   "pygments_lexer": "ipython3",
   "version": "3.11.2"
  }
 },
 "nbformat": 4,
 "nbformat_minor": 2
}
